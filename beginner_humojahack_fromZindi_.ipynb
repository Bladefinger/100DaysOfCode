{
  "cells": [
    {
      "cell_type": "markdown",
      "metadata": {
        "id": "view-in-github",
        "colab_type": "text"
      },
      "source": [
        "<a href=\"https://colab.research.google.com/github/Bladefinger/100DaysOfCode/blob/main/beginner_humojahack_fromZindi_.ipynb\" target=\"_parent\"><img src=\"https://colab.research.google.com/assets/colab-badge.svg\" alt=\"Open In Colab\"/></a>"
      ]
    },
    {
      "cell_type": "code",
      "execution_count": null,
      "metadata": {
        "id": "noxc89vI_C19"
      },
      "outputs": [],
      "source": [
        "# Import libraries\n",
        "import pandas as pd\n",
        "import numpy as np\n",
        "import matplotlib.pyplot as plt\n",
        "import seaborn as sns\n",
        "from sklearn.impute import KNNImputer, SimpleImputer\n",
        "from sklearn.model_selection import GridSearchCV\n",
        "from xgboost import XGBClassifier\n",
        "from sklearn.ensemble import RandomForestClassifier\n",
        "from sklearn.neighbors import KNeighborsClassifier\n",
        "from sklearn.pipeline import make_pipeline\n",
        "from sklearn.preprocessing import StandardScaler, PolynomialFeatures\n",
        "from sklearn.model_selection import train_test_split\n",
        "from sklearn.metrics import accuracy_score, confusion_matrix, classification_report, ConfusionMatrixDisplay\n",
        "pd.options.display.float_format = '{:.5f}'.format\n",
        "from sklearn.tree import DecisionTreeClassifier\n",
        "from sklearn.ensemble import RandomForestClassifier\n",
        "from sklearn.pipeline import make_pipeline\n",
        "from sklearn.feature_selection import SelectKBest, f_classif\n",
        "from sklearn.preprocessing import PolynomialFeatures\n",
        "from sklearn.decomposition import PCA\n",
        "from imblearn.over_sampling import SMOTE\n",
        "from imblearn.under_sampling import RandomUnderSampler\n",
        "\n",
        "%matplotlib inline\n",
        "import warnings\n",
        "warnings.filterwarnings('ignore')"
      ]
    },
    {
      "cell_type": "code",
      "execution_count": null,
      "metadata": {
        "id": "w4Jc7ak2uqVc"
      },
      "outputs": [],
      "source": [
        "test = pd.read_csv('test.csv', parse_dates = ['Datetime'])"
      ]
    },
    {
      "cell_type": "code",
      "execution_count": null,
      "metadata": {
        "colab": {
          "base_uri": "https://localhost:8080/",
          "height": 835
        },
        "id": "Nrv7vipy_GhU",
        "outputId": "c55679da-6981-40de-8c0e-0944ae4bc2fb"
      },
      "outputs": [
        {
          "data": {
            "text/html": [
              "\n",
              "  <div id=\"df-12576281-4586-42e2-b129-71fd318aa93f\">\n",
              "    <div class=\"colab-df-container\">\n",
              "      <div>\n",
              "<style scoped>\n",
              "    .dataframe tbody tr th:only-of-type {\n",
              "        vertical-align: middle;\n",
              "    }\n",
              "\n",
              "    .dataframe tbody tr th {\n",
              "        vertical-align: top;\n",
              "    }\n",
              "\n",
              "    .dataframe thead th {\n",
              "        text-align: right;\n",
              "    }\n",
              "</style>\n",
              "<table border=\"1\" class=\"dataframe\">\n",
              "  <thead>\n",
              "    <tr style=\"text-align: right;\">\n",
              "      <th></th>\n",
              "      <th>Datetime</th>\n",
              "      <th>Sensor1_PM2.5</th>\n",
              "      <th>Sensor2_PM2.5</th>\n",
              "      <th>Temperature</th>\n",
              "      <th>Relative_Humidity</th>\n",
              "      <th>Offset_fault</th>\n",
              "    </tr>\n",
              "  </thead>\n",
              "  <tbody>\n",
              "    <tr>\n",
              "      <th>0</th>\n",
              "      <td>2021-11-03 04:06:31</td>\n",
              "      <td>52.58000</td>\n",
              "      <td>49.52000</td>\n",
              "      <td>17.40000</td>\n",
              "      <td>96.00000</td>\n",
              "      <td>0</td>\n",
              "    </tr>\n",
              "    <tr>\n",
              "      <th>1</th>\n",
              "      <td>2021-11-08 18:43:23</td>\n",
              "      <td>35.25000</td>\n",
              "      <td>33.40000</td>\n",
              "      <td>25.00000</td>\n",
              "      <td>75.00000</td>\n",
              "      <td>0</td>\n",
              "    </tr>\n",
              "    <tr>\n",
              "      <th>2</th>\n",
              "      <td>2021-11-07 09:50:33</td>\n",
              "      <td>19.18000</td>\n",
              "      <td>23.50000</td>\n",
              "      <td>24.90000</td>\n",
              "      <td>75.00000</td>\n",
              "      <td>0</td>\n",
              "    </tr>\n",
              "    <tr>\n",
              "      <th>3</th>\n",
              "      <td>2022-01-01 18:55:15</td>\n",
              "      <td>19.40000</td>\n",
              "      <td>15.48000</td>\n",
              "      <td>24.90000</td>\n",
              "      <td>70.00000</td>\n",
              "      <td>0</td>\n",
              "    </tr>\n",
              "    <tr>\n",
              "      <th>4</th>\n",
              "      <td>2021-11-05 22:23:48</td>\n",
              "      <td>38.30000</td>\n",
              "      <td>34.77000</td>\n",
              "      <td>20.90000</td>\n",
              "      <td>89.00000</td>\n",
              "      <td>0</td>\n",
              "    </tr>\n",
              "    <tr>\n",
              "      <th>...</th>\n",
              "      <td>...</td>\n",
              "      <td>...</td>\n",
              "      <td>...</td>\n",
              "      <td>...</td>\n",
              "      <td>...</td>\n",
              "      <td>...</td>\n",
              "    </tr>\n",
              "    <tr>\n",
              "      <th>297172</th>\n",
              "      <td>2021-11-19 12:32:00</td>\n",
              "      <td>36.40000</td>\n",
              "      <td>37.77000</td>\n",
              "      <td>28.60000</td>\n",
              "      <td>62.00000</td>\n",
              "      <td>0</td>\n",
              "    </tr>\n",
              "    <tr>\n",
              "      <th>297173</th>\n",
              "      <td>2021-11-22 01:22:54</td>\n",
              "      <td>50.12000</td>\n",
              "      <td>40.63000</td>\n",
              "      <td>21.60000</td>\n",
              "      <td>86.00000</td>\n",
              "      <td>1</td>\n",
              "    </tr>\n",
              "    <tr>\n",
              "      <th>297174</th>\n",
              "      <td>2021-11-05 01:27:31</td>\n",
              "      <td>53.68000</td>\n",
              "      <td>45.23000</td>\n",
              "      <td>20.20000</td>\n",
              "      <td>94.00000</td>\n",
              "      <td>1</td>\n",
              "    </tr>\n",
              "    <tr>\n",
              "      <th>297175</th>\n",
              "      <td>2021-11-23 22:09:30</td>\n",
              "      <td>96.45000</td>\n",
              "      <td>114.67000</td>\n",
              "      <td>20.60000</td>\n",
              "      <td>93.00000</td>\n",
              "      <td>0</td>\n",
              "    </tr>\n",
              "    <tr>\n",
              "      <th>297176</th>\n",
              "      <td>2021-11-23 06:33:04</td>\n",
              "      <td>44.27000</td>\n",
              "      <td>36.77000</td>\n",
              "      <td>17.30000</td>\n",
              "      <td>95.00000</td>\n",
              "      <td>1</td>\n",
              "    </tr>\n",
              "  </tbody>\n",
              "</table>\n",
              "<p>297177 rows × 6 columns</p>\n",
              "</div>\n",
              "      <button class=\"colab-df-convert\" onclick=\"convertToInteractive('df-12576281-4586-42e2-b129-71fd318aa93f')\"\n",
              "              title=\"Convert this dataframe to an interactive table.\"\n",
              "              style=\"display:none;\">\n",
              "        \n",
              "  <svg xmlns=\"http://www.w3.org/2000/svg\" height=\"24px\"viewBox=\"0 0 24 24\"\n",
              "       width=\"24px\">\n",
              "    <path d=\"M0 0h24v24H0V0z\" fill=\"none\"/>\n",
              "    <path d=\"M18.56 5.44l.94 2.06.94-2.06 2.06-.94-2.06-.94-.94-2.06-.94 2.06-2.06.94zm-11 1L8.5 8.5l.94-2.06 2.06-.94-2.06-.94L8.5 2.5l-.94 2.06-2.06.94zm10 10l.94 2.06.94-2.06 2.06-.94-2.06-.94-.94-2.06-.94 2.06-2.06.94z\"/><path d=\"M17.41 7.96l-1.37-1.37c-.4-.4-.92-.59-1.43-.59-.52 0-1.04.2-1.43.59L10.3 9.45l-7.72 7.72c-.78.78-.78 2.05 0 2.83L4 21.41c.39.39.9.59 1.41.59.51 0 1.02-.2 1.41-.59l7.78-7.78 2.81-2.81c.8-.78.8-2.07 0-2.86zM5.41 20L4 18.59l7.72-7.72 1.47 1.35L5.41 20z\"/>\n",
              "  </svg>\n",
              "      </button>\n",
              "      \n",
              "  <style>\n",
              "    .colab-df-container {\n",
              "      display:flex;\n",
              "      flex-wrap:wrap;\n",
              "      gap: 12px;\n",
              "    }\n",
              "\n",
              "    .colab-df-convert {\n",
              "      background-color: #E8F0FE;\n",
              "      border: none;\n",
              "      border-radius: 50%;\n",
              "      cursor: pointer;\n",
              "      display: none;\n",
              "      fill: #1967D2;\n",
              "      height: 32px;\n",
              "      padding: 0 0 0 0;\n",
              "      width: 32px;\n",
              "    }\n",
              "\n",
              "    .colab-df-convert:hover {\n",
              "      background-color: #E2EBFA;\n",
              "      box-shadow: 0px 1px 2px rgba(60, 64, 67, 0.3), 0px 1px 3px 1px rgba(60, 64, 67, 0.15);\n",
              "      fill: #174EA6;\n",
              "    }\n",
              "\n",
              "    [theme=dark] .colab-df-convert {\n",
              "      background-color: #3B4455;\n",
              "      fill: #D2E3FC;\n",
              "    }\n",
              "\n",
              "    [theme=dark] .colab-df-convert:hover {\n",
              "      background-color: #434B5C;\n",
              "      box-shadow: 0px 1px 3px 1px rgba(0, 0, 0, 0.15);\n",
              "      filter: drop-shadow(0px 1px 2px rgba(0, 0, 0, 0.3));\n",
              "      fill: #FFFFFF;\n",
              "    }\n",
              "  </style>\n",
              "\n",
              "      <script>\n",
              "        const buttonEl =\n",
              "          document.querySelector('#df-12576281-4586-42e2-b129-71fd318aa93f button.colab-df-convert');\n",
              "        buttonEl.style.display =\n",
              "          google.colab.kernel.accessAllowed ? 'block' : 'none';\n",
              "\n",
              "        async function convertToInteractive(key) {\n",
              "          const element = document.querySelector('#df-12576281-4586-42e2-b129-71fd318aa93f');\n",
              "          const dataTable =\n",
              "            await google.colab.kernel.invokeFunction('convertToInteractive',\n",
              "                                                     [key], {});\n",
              "          if (!dataTable) return;\n",
              "\n",
              "          const docLinkHtml = 'Like what you see? Visit the ' +\n",
              "            '<a target=\"_blank\" href=https://colab.research.google.com/notebooks/data_table.ipynb>data table notebook</a>'\n",
              "            + ' to learn more about interactive tables.';\n",
              "          element.innerHTML = '';\n",
              "          dataTable['output_type'] = 'display_data';\n",
              "          await google.colab.output.renderOutput(dataTable, element);\n",
              "          const docLink = document.createElement('div');\n",
              "          docLink.innerHTML = docLinkHtml;\n",
              "          element.appendChild(docLink);\n",
              "        }\n",
              "      </script>\n",
              "    </div>\n",
              "  </div>\n",
              "  "
            ],
            "text/plain": [
              "                  Datetime  Sensor1_PM2.5  Sensor2_PM2.5  Temperature  \\\n",
              "0      2021-11-03 04:06:31       52.58000       49.52000     17.40000   \n",
              "1      2021-11-08 18:43:23       35.25000       33.40000     25.00000   \n",
              "2      2021-11-07 09:50:33       19.18000       23.50000     24.90000   \n",
              "3      2022-01-01 18:55:15       19.40000       15.48000     24.90000   \n",
              "4      2021-11-05 22:23:48       38.30000       34.77000     20.90000   \n",
              "...                    ...            ...            ...          ...   \n",
              "297172 2021-11-19 12:32:00       36.40000       37.77000     28.60000   \n",
              "297173 2021-11-22 01:22:54       50.12000       40.63000     21.60000   \n",
              "297174 2021-11-05 01:27:31       53.68000       45.23000     20.20000   \n",
              "297175 2021-11-23 22:09:30       96.45000      114.67000     20.60000   \n",
              "297176 2021-11-23 06:33:04       44.27000       36.77000     17.30000   \n",
              "\n",
              "        Relative_Humidity  Offset_fault  \n",
              "0                96.00000             0  \n",
              "1                75.00000             0  \n",
              "2                75.00000             0  \n",
              "3                70.00000             0  \n",
              "4                89.00000             0  \n",
              "...                   ...           ...  \n",
              "297172           62.00000             0  \n",
              "297173           86.00000             1  \n",
              "297174           94.00000             1  \n",
              "297175           93.00000             0  \n",
              "297176           95.00000             1  \n",
              "\n",
              "[297177 rows x 6 columns]"
            ]
          },
          "execution_count": 162,
          "metadata": {},
          "output_type": "execute_result"
        }
      ],
      "source": [
        "# Load files\n",
        "data = pd.read_csv('train.csv', parse_dates = ['Datetime'])\n",
        "test = pd.read_csv('test.csv', parse_dates = ['Datetime'])\n",
        "samplesubmission = pd.read_csv('SampleSubmission.csv')\n",
        "\n",
        "\n",
        "data.drop(['ID'], axis=1)\n",
        "# Preview train dataset\n"
      ]
    },
    {
      "cell_type": "code",
      "execution_count": null,
      "metadata": {
        "id": "qSA4zMtf_Hlm"
      },
      "outputs": [],
      "source": [
        "missing_rate = data.isna().sum()/data.shape[0]"
      ]
    },
    {
      "cell_type": "code",
      "execution_count": null,
      "metadata": {
        "id": "H-nItau9_L1H"
      },
      "outputs": [],
      "source": [
        "trainset, testset = train_test_split(data, test_size=0.2, random_state=0)"
      ]
    },
    {
      "cell_type": "code",
      "execution_count": null,
      "metadata": {
        "id": "dRDaESXViPfI"
      },
      "outputs": [],
      "source": [
        "trainset = trainset.dropna(axis=0)\n",
        "testset = testset.dropna(axis=0)"
      ]
    },
    {
      "cell_type": "code",
      "execution_count": null,
      "metadata": {
        "colab": {
          "base_uri": "https://localhost:8080/"
        },
        "id": "sLVsNMZ-mXmP",
        "outputId": "05f8d7d3-a12d-4f02-e313-978063d19081"
      },
      "outputs": [
        {
          "data": {
            "text/plain": [
              "ID                  0.00000\n",
              "Datetime            0.00000\n",
              "Sensor1_PM2.5       0.01229\n",
              "Sensor2_PM2.5       0.01229\n",
              "Temperature         0.01181\n",
              "Relative_Humidity   0.01181\n",
              "Offset_fault        0.00000\n",
              "dtype: float64"
            ]
          },
          "execution_count": 165,
          "metadata": {},
          "output_type": "execute_result"
        }
      ],
      "source": [
        "trainset.isna().sum()/trainset.shape[0]"
      ]
    },
    {
      "cell_type": "code",
      "execution_count": null,
      "metadata": {
        "id": "7Lb40wpDhVHc"
      },
      "outputs": [],
      "source": [
        "X_train = trainset.drop(['ID', 'Datetime', 'Offset_fault'], axis=1)\n",
        "y_train = trainset['Offset_fault']\n",
        "X_test = testset.drop(['ID', 'Datetime', 'Offset_fault'], axis=1) \n",
        "y_test = testset['Offset_fault']"
      ]
    },
    {
      "cell_type": "code",
      "execution_count": null,
      "metadata": {
        "id": "BfVfDbcfgzkX"
      },
      "outputs": [],
      "source": [
        "test = test.drop(['Datetime'], axis= 1)\n",
        "#test = test.dropna(axis=0)\n"
      ]
    },
    {
      "cell_type": "code",
      "execution_count": null,
      "metadata": {
        "id": "SRx_paGfI_NG"
      },
      "outputs": [],
      "source": [
        "from imblearn.over_sampling import ADASYN"
      ]
    },
    {
      "cell_type": "code",
      "execution_count": null,
      "metadata": {
        "id": "NRfsyR0s_NrX"
      },
      "outputs": [],
      "source": [
        "model = make_pipeline(KNNImputer(n_neighbors=1), PolynomialFeatures(2),SelectKBest(f_classif, k=5),\n",
        "                      XGBClassifier(random_state=6))"
      ]
    },
    {
      "cell_type": "code",
      "execution_count": null,
      "metadata": {
        "id": "Z7knue9ajIM9"
      },
      "outputs": [],
      "source": [
        "test_partial = test"
      ]
    },
    {
      "cell_type": "code",
      "execution_count": null,
      "metadata": {
        "colab": {
          "base_uri": "https://localhost:8080/"
        },
        "id": "DsK03y7nmC9P",
        "outputId": "73c830a8-3cd0-4338-f958-8480c0ccb25e"
      },
      "outputs": [
        {
          "data": {
            "text/plain": [
              "Sensor1_PM2.5       0.01229\n",
              "Sensor2_PM2.5       0.01229\n",
              "Temperature         0.01181\n",
              "Relative_Humidity   0.01181\n",
              "dtype: float64"
            ]
          },
          "execution_count": 171,
          "metadata": {},
          "output_type": "execute_result"
        }
      ],
      "source": [
        "X_train.isna().sum()/X_train.shape[0]"
      ]
    },
    {
      "cell_type": "code",
      "execution_count": null,
      "metadata": {
        "colab": {
          "base_uri": "https://localhost:8080/"
        },
        "id": "Ket9Edi5jprm",
        "outputId": "162981b0-62e9-46b5-f87b-09b74b9b4bd7"
      },
      "outputs": [
        {
          "data": {
            "text/plain": [
              "Pipeline(steps=[('knnimputer', KNNImputer(n_neighbors=1)),\n",
              "                ('polynomialfeatures', PolynomialFeatures()),\n",
              "                ('selectkbest', SelectKBest(k=5)),\n",
              "                ('xgbclassifier', XGBClassifier(random_state=6))])"
            ]
          },
          "execution_count": 172,
          "metadata": {},
          "output_type": "execute_result"
        }
      ],
      "source": [
        "model.fit(X_train, y_train)\n",
        " "
      ]
    },
    {
      "cell_type": "code",
      "execution_count": null,
      "metadata": {
        "id": "deHI4_RVjv1B"
      },
      "outputs": [],
      "source": [
        "ypred = model.predict(X_test)"
      ]
    },
    {
      "cell_type": "code",
      "execution_count": null,
      "metadata": {
        "colab": {
          "base_uri": "https://localhost:8080/"
        },
        "id": "XY-8Q9m_z-3m",
        "outputId": "142060cb-344e-4a3c-93b0-9886fd83ca07"
      },
      "outputs": [
        {
          "data": {
            "text/plain": [
              "Index(['ID', 'Sensor1_PM2.5', 'Sensor2_PM2.5', 'Temperature',\n",
              "       'Relative_Humidity'],\n",
              "      dtype='object')"
            ]
          },
          "execution_count": 114,
          "metadata": {},
          "output_type": "execute_result"
        }
      ],
      "source": [
        "test"
      ]
    },
    {
      "cell_type": "code",
      "execution_count": null,
      "metadata": {
        "id": "k0Gvdva30NbF"
      },
      "outputs": [],
      "source": [
        "test_partial = test_partial.drop(['ID'], axis=1)"
      ]
    },
    {
      "cell_type": "code",
      "execution_count": null,
      "metadata": {
        "colab": {
          "background_save": true
        },
        "id": "m0amMTh3vd4c"
      },
      "outputs": [],
      "source": [
        "prediction_test = model.predict(test_partial)"
      ]
    },
    {
      "cell_type": "code",
      "execution_count": null,
      "metadata": {
        "id": "ZEw78gdS8e15"
      },
      "outputs": [],
      "source": [
        "test_partial_2 = model.transform(test_partial)\n",
        "#prediction_test_2 = model.predict(test_partial_2)"
      ]
    },
    {
      "cell_type": "code",
      "execution_count": null,
      "metadata": {
        "colab": {
          "base_uri": "https://localhost:8080/"
        },
        "id": "o0hC2j412YOu",
        "outputId": "dcc27239-0033-46a6-f261-fb79dbf17c40"
      },
      "outputs": [
        {
          "name": "stdout",
          "output_type": "stream",
          "text": [
            "[[34955  2317]\n",
            " [ 2898 19266]]\n",
            "              precision    recall  f1-score   support\n",
            "\n",
            "           0       0.92      0.94      0.93     37272\n",
            "           1       0.89      0.87      0.88     22164\n",
            "\n",
            "    accuracy                           0.91     59436\n",
            "   macro avg       0.91      0.90      0.91     59436\n",
            "weighted avg       0.91      0.91      0.91     59436\n",
            "\n"
          ]
        }
      ],
      "source": [
        "print(confusion_matrix(y_test, ypred))\n",
        "print(classification_report(y_test, ypred))\n",
        "\n",
        "N, train_score, val_score = learning_curve(model, X_train, y_train,\n",
        "                                          cv=4, scoring='f1',\n",
        "                                            train_sizes=np.linspace(0.1, 1, 10))\n",
        "\n",
        "\n",
        "plt.figure(figsize=(12, 8))\n",
        "plt.plot(N, train_score.mean(axis=1), label='train score')\n",
        "plt.plot(N, val_score.mean(axis=1), label='validation score')\n",
        "plt.legend()"
      ]
    },
    {
      "cell_type": "code",
      "execution_count": null,
      "metadata": {
        "id": "moRV0rIQpYfn"
      },
      "outputs": [],
      "source": [
        "from sklearn.model_selection import learning_curve"
      ]
    },
    {
      "cell_type": "code",
      "execution_count": null,
      "metadata": {
        "id": "7Mn0SWmix4p1"
      },
      "outputs": [],
      "source": [
        "id_predit = pd.DataFrame(prediction_test, columns= ['ID'])\n",
        "#id_predit_2 = pd.DataFrame(prediction_test_2, columns= ['ID'])"
      ]
    },
    {
      "cell_type": "code",
      "execution_count": null,
      "metadata": {
        "id": "Ksz_lKZ1xlff"
      },
      "outputs": [],
      "source": [
        "prediction = pd.concat([test[\"ID\"],id_predit], axis=1)\n",
        "#prediction_2 = pd.concat([test[\"ID\"],id_predit_2], axis=1)"
      ]
    },
    {
      "cell_type": "code",
      "execution_count": null,
      "metadata": {
        "id": "SrMemMK1_h1l"
      },
      "outputs": [],
      "source": [
        "# # Create a submission file\n",
        "sub_file = prediction.copy()\n",
        "sub_file = prediction\n",
        "\n",
        "#sub_file_2 = prediction_2.copy()\n",
        "#sub_file_2 = prediction_2\n",
        "# Create file\n",
        "sub_file.to_csv('Baseline_7.csv', index = False)\n",
        "#sub_file_2.to_csv('Baseline__2.csv', index = False)"
      ]
    },
    {
      "cell_type": "code",
      "execution_count": null,
      "metadata": {
        "id": "0P8y5Sfj2Vlw"
      },
      "outputs": [],
      "source": [
        "B5 = pd.read_csv('Baseline_5.csv')\n",
        "B6 = pd.read_csv('Baseline_6.csv')"
      ]
    },
    {
      "cell_type": "code",
      "execution_count": null,
      "metadata": {
        "colab": {
          "base_uri": "https://localhost:8080/"
        },
        "id": "LBJQbc3kAafF",
        "outputId": "ed00f959-c2ff-466a-955d-902362241035"
      },
      "outputs": [
        {
          "data": {
            "text/plain": [
              "ID      127361\n",
              "ID.1    127361\n",
              "dtype: int64"
            ]
          },
          "execution_count": 141,
          "metadata": {},
          "output_type": "execute_result"
        }
      ],
      "source": [
        "(B5 == B6).sum()"
      ]
    },
    {
      "cell_type": "code",
      "execution_count": null,
      "metadata": {
        "id": "NQByjVxCC77T"
      },
      "outputs": [],
      "source": [
        ""
      ]
    }
  ],
  "metadata": {
    "colab": {
      "name": "beginner humojahack  fromZindi .ipynb",
      "provenance": [],
      "authorship_tag": "ABX9TyP/y8v33WZHXsm3OBtbIt3U",
      "include_colab_link": true
    },
    "kernelspec": {
      "display_name": "Python 3",
      "name": "python3"
    },
    "language_info": {
      "name": "python"
    }
  },
  "nbformat": 4,
  "nbformat_minor": 0
}